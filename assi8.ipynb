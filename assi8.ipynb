{
 "cells": [
  {
   "cell_type": "code",
   "execution_count": null,
   "id": "2a3515b8",
   "metadata": {},
   "outputs": [
    {
     "name": "stdout",
     "output_type": "stream",
     "text": [
      "Confusion Matrix:\n",
      " [[26  0]\n",
      " [ 0 19]]\n",
      "\n",
      "True Positives (TP): 26\n",
      "False Positives (FP): 0\n",
      "True Negatives (TN): 19\n",
      "False Negatives (FN): 0\n",
      "\n",
      "Accuracy: 1.0\n",
      "Error Rate: 0.0\n",
      "Precision: 1.0\n",
      "Recall: 1.0\n",
      "F1-Score: 1.0\n"
     ]
    },
    {
     "name": "stderr",
     "output_type": "stream",
     "text": [
      "<>:8: SyntaxWarning: invalid escape sequence '\\D'\n",
      "<>:8: SyntaxWarning: invalid escape sequence '\\D'\n",
      "C:\\Users\\Admin\\AppData\\Local\\Temp\\ipykernel_6636\\624453093.py:8: SyntaxWarning: invalid escape sequence '\\D'\n",
      "  url = \"D:\\DEVENDRA\\VS Code\\Assignment\\TY\\sem 6\\dsbdcode\\iris.data.csv\"\n"
     ]
    }
   ],
   "source": [
    "import pandas as pd, numpy as np\n",
    "from sklearn.model_selection import train_test_split\n",
    "from sklearn.preprocessing import LabelEncoder\n",
    "from sklearn.neighbors import KNeighborsClassifier\n",
    "from sklearn.metrics import confusion_matrix, accuracy_score, precision_score, recall_score, f1_score\n",
    "\n",
    "# Load & preprocess\n",
    "url = \"D:\\VS Code\\Assignment\\TY\\sem 6\\dsbdcode\\iris.data.csv\"\n",
    "cols = ['sepal_length', 'sepal_width', 'petal_length', 'petal_width', 'species']\n",
    "df = pd.read_csv(url, header=None, names=cols)\n",
    "le = LabelEncoder()\n",
    "df['species'] = le.fit_transform(df['species'])  # setosa=0, versicolor=1, virginica=2\n",
    "\n",
    "# Train-test split\n",
    "X_train, X_test, y_train, y_test = train_test_split(df.iloc[:, :-1], df['species'], test_size=0.3, random_state=42)\n",
    "model = KNeighborsClassifier(n_neighbors=3).fit(X_train, y_train)\n",
    "y_pred = model.predict(X_test)\n",
    "\n",
    "# Treat class 0 (setosa) as positive, others as negative\n",
    "target_class = 0\n",
    "y_test_binary = (y_test == target_class).astype(int)\n",
    "y_pred_binary = (y_pred == target_class).astype(int)\n",
    "\n",
    "# Compute confusion matrix\n",
    "cm = confusion_matrix(y_test_binary, y_pred_binary)\n",
    "TP = cm[1, 1]\n",
    "FP = cm[0, 1]\n",
    "TN = cm[0, 0]\n",
    "FN = cm[1, 0]\n",
    "\n",
    "# Print results\n",
    "print(\"Confusion Matrix:\\n\", cm)\n",
    "print(\"\\nTrue Positives (TP):\", TP)\n",
    "print(\"False Positives (FP):\", FP)\n",
    "print(\"True Negatives (TN):\", TN)\n",
    "print(\"False Negatives (FN):\", FN)\n",
    "\n",
    "acc = accuracy_score(y_test_binary, y_pred_binary)\n",
    "print(f\"\\nAccuracy: {acc:.1f}\")\n",
    "print(f\"Error Rate: {1 - acc:.1f}\")\n",
    "print(\"Precision:\", round(precision_score(y_test_binary, y_pred_binary), 1))\n",
    "print(\"Recall:\", round(recall_score(y_test_binary, y_pred_binary), 1))\n",
    "print(\"F1-Score:\", round(f1_score(y_test_binary, y_pred_binary), 1))"
   ]
  }
 ],
 "metadata": {
  "kernelspec": {
   "display_name": "Python 3",
   "language": "python",
   "name": "python3"
  },
  "language_info": {
   "codemirror_mode": {
    "name": "ipython",
    "version": 3
   },
   "file_extension": ".py",
   "mimetype": "text/x-python",
   "name": "python",
   "nbconvert_exporter": "python",
   "pygments_lexer": "ipython3",
   "version": "3.13.3"
  }
 },
 "nbformat": 4,
 "nbformat_minor": 5
}
